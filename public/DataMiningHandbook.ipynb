{
 "cells": [
  {
   "cell_type": "code",
   "execution_count": 1,
   "metadata": {},
   "outputs": [],
   "source": [
    "import numpy as np\n",
    "import pandas as pd"
   ]
  },
  {
   "cell_type": "markdown",
   "metadata": {},
   "source": [
    "# Data Mining Handbook"
   ]
  },
  {
   "cell_type": "markdown",
   "metadata": {},
   "source": [
    "## Missing Data\n",
    "\n",
    "\n",
    "\n",
    "Most models are incapable of dealing with nan values, but removing or replacing them may introduce undesirable effects, especially if the nans are dependent on the distribution of the sample space.\n",
    " - Missing Completely at Random (MCAR): The probability of a missing value in a variable is independent of both the obserbed and unobserved data. Let $Y$ be the complete data matrix, and let $M$ be the missing data indicator matrix, where $M_{ij}=\\{Y_{ij}=\\emptyset\\ ?\\ 1\\ :\\ 0\\}$. Then, $P(M|Y_{\\text{obs}},Y_{mis})=P(M)$.\n",
    " - Distribution Changes: If the data is not MCAR, altering the nan values can shift the mean, variance, skewness, etc. <p style=\"color:red\">*Can I prove that removing MCAR will not change distribution?*</div>\n",
    " - Dependency Changes: The probability of observing a nan in a particular feature may be correlated with another feature or the target. <p style=\"color:red\">*Can I prove that removing MCAR will not change correlation?*</div>\n",
    "\n",
    "### Removing Misisng Data\n",
    "\n",
    "```python\n",
    "DataFrame.dropna(*, axis=0, how=<no_default>, thresh=<no_default>, subset=None, inplace=False, ignore_index=False) \n",
    "```\n",
    "\n",
    "[source](https://pandas.pydata.org/docs/reference/api/pandas.DataFrame.dropna.html)\n"
   ]
  },
  {
   "cell_type": "code",
   "execution_count": null,
   "metadata": {},
   "outputs": [],
   "source": [
    "n = 100\n",
    "p = 50\n",
    "nan_prob = 0.12\n",
    "\n",
    "data = np.random.random((n, p))\n",
    "data[np.random.binomial(n=1, p=nan_prob, size=(n, p)) == 1] = np.nan\n",
    "\n",
    "data = data.dropna()\n"
   ]
  },
  {
   "cell_type": "markdown",
   "metadata": {},
   "source": [
    "### Constant Imputation"
   ]
  },
  {
   "cell_type": "markdown",
   "metadata": {},
   "source": []
  },
  {
   "cell_type": "markdown",
   "metadata": {},
   "source": [
    "\n",
    "### Forward/Backward Fill\n",
    "\n",
    "### Interpolation\n",
    "\n",
    "### Multiple Imputation\n",
    "\n",
    "### KNN Imputation\n",
    "\n",
    "### Hot Deck imputation\n",
    "\n",
    "### Cold Deck Imputaiton\n",
    "\n",
    "### Expectation-Maximzation\n",
    "\n",
    "### Matrix Factorization\n",
    "\n",
    "### Data Augmentation\n",
    "\n",
    "### Generative Models\n",
    "\n",
    "### Bayesain Imputation\n",
    "\n",
    "### Matrix Completion\n",
    "\n",
    "### Random Forest Imputation\n",
    "\n",
    "### Deep Learning Methods\n",
    "\n",
    "### Latent Variable Methods\n",
    "\n",
    "### Markov Chain Monte Carlo for Imputation\n",
    "\n",
    "### Nonparametric Imputation\n",
    "\n",
    "\n"
   ]
  }
 ],
 "metadata": {
  "kernelspec": {
   "display_name": "base",
   "language": "python",
   "name": "python3"
  },
  "language_info": {
   "codemirror_mode": {
    "name": "ipython",
    "version": 3
   },
   "file_extension": ".py",
   "mimetype": "text/x-python",
   "name": "python",
   "nbconvert_exporter": "python",
   "pygments_lexer": "ipython3",
   "version": "3.12.7"
  }
 },
 "nbformat": 4,
 "nbformat_minor": 2
}
