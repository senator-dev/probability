{
 "cells": [
  {
   "cell_type": "code",
   "execution_count": 1,
   "metadata": {},
   "outputs": [],
   "source": [
    "import numpy as np\n",
    "import pandas as pd"
   ]
  },
  {
   "cell_type": "markdown",
   "metadata": {},
   "source": [
    "# Data Mining Handbook"
   ]
  },
  {
   "cell_type": "markdown",
   "metadata": {},
   "source": [
    "## Missing Data\n",
    "\n",
    "### Removing Misisng Data\n",
    "\n",
    " - Missing Completely at Random (MCAR): The probability of a missing value in a variable is independent of both the obserbed and unobserved data. Let $Y$ be the complete data matrix, and let $M$ be the missing data indicator matrix, where $M_{ij}={Y_{ij}=\\emptyset\\ ?\\ 1\\ :\\ 0}$. Then, $P(M|Y_{\\text{obs}},Y_{mis})=P(M)$.\n",
    " - Sample Size Reduction $\\implies$ Lower statistical power and higher variance.\n",
    " - Reduced sample size can increase standard errors, making confidence intervals wider.\n",
    " - If missing values occur more in certain subgroups, dropping them alters group proportions.\n",
    " - If missingness is systematic, removing data can make estimators inconsistent or biased.\n",
    " - If different variables have missing values in different patterns, removing rows can distort correlations and dependencies.\n",
    " - In cases where missingness contains information (e.g., non-response in surveys indicating sensitivity), removing data discards valuable insights.\n",
    "\n"
   ]
  },
  {
   "cell_type": "code",
   "execution_count": 4,
   "metadata": {},
   "outputs": [
    {
     "data": {
      "text/plain": [
       "array([0.06034738, 0.29081623, 0.2614664 , 0.22037083])"
      ]
     },
     "execution_count": 4,
     "metadata": {},
     "output_type": "execute_result"
    }
   ],
   "source": [
    "np.random.random(4)"
   ]
  },
  {
   "cell_type": "code",
   "execution_count": 70,
   "metadata": {},
   "outputs": [
    {
     "name": "stdout",
     "output_type": "stream",
     "text": [
      "Number of nan: 2939\n",
      "Number of samples: 5000\n",
      "Probabiliy of Nan: 0.60\n",
      "Proportion of Nan: 58.78%\n",
      "N after removing rows with all nans: 2939\n",
      "N after removing rows with any nans: 2939\n"
     ]
    }
   ],
   "source": [
    "n = 100\n",
    "p = 50\n",
    "nan_prop = np.random.random()\n",
    "\n",
    "data = np.random.random(size=(n, p))\n",
    "data[np.random.binomial(n=1, p=nan_prop, size=(n, p)) == 1] = np.nan\n",
    "data = pd.DataFrame(data)\n",
    "\n",
    "n_nan = data.isna().sum().sum()\n",
    "data_not_all_nan = data.dropna(how='all')\n",
    "data_no_nan = data.dropna(how='any')\n",
    "\n",
    "print(f\"Number of nan: {n_nan}\")\n",
    "print(f\"Number of samples: {n * p}\")\n",
    "print(f\"Probabiliy of Nan: {nan_prop:.2f}\")\n",
    "print(f\"Proportion of Nan: {(n_nan/(n * p)) * 100}%\")\n",
    "print(f\"N after removing rows with all nans: {n_nan}\")\n",
    "print(f\"N after removing rows with any nans: {n_nan}\")\n"
   ]
  },
  {
   "cell_type": "markdown",
   "metadata": {},
   "source": [
    "\n",
    "\n",
    "### Imputation\n",
    "\n",
    "#### Constant\n",
    "#### Mean\n",
    "#### Median\n",
    "#### Mode\n",
    "\n",
    "### Forward/Backward Fill\n",
    "\n",
    "### Interpolation\n",
    "\n",
    "### Multiple Imputation\n",
    "\n",
    "### KNN Imputation\n",
    "\n",
    "### Hot Deck imputation\n",
    "\n",
    "### Cold Deck Imputaiton\n",
    "\n",
    "### Expectation-Maximzation\n",
    "\n",
    "### Matrix Factorization\n",
    "\n",
    "### Data Augmentation\n",
    "\n",
    "### Generative Models\n",
    "\n",
    "### Bayesain Imputation\n",
    "\n",
    "### Matrix Completion\n",
    "\n",
    "### Random Forest Imputation\n",
    "\n",
    "### Deep Learning Methods\n",
    "\n",
    "### Latent Variable Methods\n",
    "\n",
    "### Markov Chain Monte Carlo for Imputation\n",
    "\n",
    "### Nonparametric Imputation\n",
    "\n",
    "\n"
   ]
  }
 ],
 "metadata": {
  "kernelspec": {
   "display_name": "Python 3",
   "language": "python",
   "name": "python3"
  },
  "language_info": {
   "codemirror_mode": {
    "name": "ipython",
    "version": 3
   },
   "file_extension": ".py",
   "mimetype": "text/x-python",
   "name": "python",
   "nbconvert_exporter": "python",
   "pygments_lexer": "ipython3",
   "version": "3.12.4"
  }
 },
 "nbformat": 4,
 "nbformat_minor": 2
}
